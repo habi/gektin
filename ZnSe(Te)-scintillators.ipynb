{
 "cells": [
  {
   "cell_type": "markdown",
   "metadata": {},
   "source": [
    "# Introduction\n",
    "We've received Scintillators from [Alexander Gektins group](http://isma.kharkov.ua/eng/).\n",
    "According to Alexander, they are\n",
    "\n",
    "> composite scintillator[s] on the base of the same CsI(Tl) or CsI(Na).\n",
    "> It looks like a thin film made from optical (gel matrix) uploaded with scintillator (in your case it is CsI) powder.\n",
    "\n",
    "These scintillators have been assessed with a classic [x-ray setup](https://www.psi.ch/bz/infrastruktur) (Varian RAD 14 source) at the [PSI radiation safety school](https://www.psi.ch/bz/schule-fuer-strahlenschutz).\n",
    "\n",
    "The [iPython notebook](http://jupyter.org/) here shows the comparison of the different ISMA scintillators with a [classic CsI:Tl scintillator, commercially available from Toshiba](http://drive.globaldiagnostix.org/index.php/s/5gk1jXxG3M4yKEV)."
   ]
  },
  {
   "cell_type": "markdown",
   "metadata": {},
   "source": [
    "# Materials & Methods\n",
    "First we have to import some libraries we need and set some sensible defaults for outputting the plots."
   ]
  },
  {
   "cell_type": "code",
   "execution_count": 1,
   "metadata": {
    "collapsed": false
   },
   "outputs": [],
   "source": [
    "import matplotlib\n",
    "import matplotlib.pyplot as plt\n",
    "from matplotlib.patches import Rectangle\n",
    "import numpy\n",
    "import os\n",
    "import platform\n",
    "import glob\n",
    "\n",
    "# Display defaults\n",
    "matplotlib.style.use('ggplot')  # Use ggplot style for plots\n",
    "%matplotlib inline\n",
    "plt.rc('image', cmap='gray', interpolation='nearest')  # Display all images the same way\n",
    "plt.rcParams['figure.figsize'] = (16 * 0.8, 9 * 0.8)  # Display images in this size\n",
    "plt.rc('lines', linewidth=2)  # Make lines a bit wider\n",
    "plt.rc('lines', marker='o')  # Always with line markers\n",
    "# Colors from http://tools.medialab.sciences-po.fr/iwanthue/\n",
    "colors = [\"#7A81C7\", \"#73AB42\", \"#CA64B3\", \"#C87C2D\", \"#41A9A8\", \"#D14F5B\"]"
   ]
  },
  {
   "cell_type": "markdown",
   "metadata": {},
   "source": [
    "Then we define often used functions, namely for reading the images from the [GDX](http://globaldiagnostix.org/) prototype electronics which we used for this experiment."
   ]
  },
  {
   "cell_type": "code",
   "execution_count": 2,
   "metadata": {
    "collapsed": false
   },
   "outputs": [],
   "source": [
    "# Functions\n",
    "def read_gray(filename, width=1280, height=4*1024):\n",
    "    '''Read a .gray image from the detector to a numpy array, ready to display'''\n",
    "    image = numpy.fromfile(filename, dtype=numpy.uint16, count=-1, sep='').reshape(height, width)\n",
    "    return image\n",
    "\n",
    "def reslice_image(inputimagename, ImageWidth=1280, ImageHeight=4*1024, read=True):\n",
    "    '''Display 4sensor image in \"human-readable\" format'''\n",
    "    if read:\n",
    "        # Read the image from disk\n",
    "        img = read_gray(inputimagename, width=ImageWidth, height=ImageHeight)\n",
    "    else:\n",
    "        # We already have an image, just reslice it\n",
    "        img = inputimagename\n",
    "    # Split into top and bottom, which we concatenate afterwards\n",
    "    bottom = numpy.concatenate((img[0 * ImageHeight / 4:(0 + 1) * ImageHeight / 4, :],\n",
    "                                img[1 * ImageHeight / 4:(1 + 1) * ImageHeight / 4, :]),\n",
    "                               axis=1)\n",
    "    top = numpy.concatenate((img[2 * ImageHeight / 4:(2 + 1) * ImageHeight / 4, :],\n",
    "                             img[3 * ImageHeight / 4:(3 + 1) * ImageHeight / 4, :]),\n",
    "                            axis=1)\n",
    "    concatenate = numpy.concatenate((top, bottom), axis=0)\n",
    "    return concatenate\n",
    "\n",
    "def show_single_cmos(inputimagename, sensor=1, reslice=False):\n",
    "    '''Display only one CMOS from 4sensor image'''\n",
    "    if sensor not in [1,2,3,4]:\n",
    "        print 'You have to give me a CMOS number from 1 to 4'\n",
    "    if reslice:\n",
    "        # We already have a full image, slice it again\n",
    "        img = numpy.concatenate((inputimagename[1024:,:1280], inputimagename[1024:,1280:],\n",
    "                                 inputimagename[:1024,:1280], inputimagename[:1024,1280:]))\n",
    "    else:\n",
    "        img = read_gray(inputimagename)     \n",
    "    # Return only once CMOS region\n",
    "    img = img[(sensor - 1) * 1024:sensor * 1024, :]\n",
    "    return img\n",
    "\n",
    "def display_roi(image, ZoomStartX=650, ZoomStartY=900, ZoomSize=200, color='red', prefix=''):\n",
    "    '''Display an image with ROI of zoomed region plus the zoomed region'''\n",
    "    # Show image\n",
    "    plt.imshow(image)\n",
    "    if prefix:\n",
    "        plt.title('%s: Region of ROI with a size of %s px' % (prefix, ZoomSize))\n",
    "    else:\n",
    "        plt.title('Region of ROI with a size of %s px' % ZoomSize)        \n",
    "    # Overlay zoom ROI on original image\n",
    "    currentAxis = plt.gca()\n",
    "    currentAxis.add_patch(Rectangle((ZoomStartX, ZoomStartY), ZoomSize, ZoomSize, fc=color, ec='k', alpha=0.309))\n",
    "    # Return ROI image\n",
    "    roi = image[ZoomStartY:ZoomStartY + ZoomSize, ZoomStartX:ZoomStartX + ZoomSize]\n",
    "    return roi"
   ]
  },
  {
   "cell_type": "markdown",
   "metadata": {},
   "source": [
    "After having done that, we actually perform the analysis.\n",
    "To do so, we\n",
    "- go through the folders (their name either contains `gkt_sct` or `gkt_gkt` for images with the Toshiba scintillator or the ISMA scintillators, respectively).\n",
    "- load the images for equal source settings (`timestamp_scintillator_kV_mA`)\n",
    "- define a ROI for the scintillator in question (empirically)\n",
    "- plot the mean brightness and standard deviation"
   ]
  },
  {
   "cell_type": "code",
   "execution_count": 3,
   "metadata": {
    "collapsed": false
   },
   "outputs": [],
   "source": [
    "# Load images\n",
    "if 'anomalocaris' in platform.node():\n",
    "    # If we work locally on the Mac, load the local files\n",
    "    StartPath = '/Users/habi/Dev/DemonstratorElectronics/detector2'\n",
    "else:\n",
    "    # Otherwise, load the files from AFS\n",
    "    StartPath = '/afs/psi.ch/project/EssentialMed/Images/detector2/leadglass'\n",
    "# Find all experiment folders\n",
    "Folders = glob.glob(os.path.join(StartPath, '*gkt_gkt_*'))"
   ]
  },
  {
   "cell_type": "code",
   "execution_count": null,
   "metadata": {
    "collapsed": false,
    "scrolled": false
   },
   "outputs": [
    {
     "name": "stdout",
     "output_type": "stream",
     "text": [
      "Experiment \"1460727023_gkt_gkt_40_40\" was acquired with 40 kV and 40 mA\n",
      "Experiment \"1460727087_gkt_gkt_50_40\" was acquired with 50 kV and 40 mA\n",
      "Experiment \"1460727147_gkt_gkt_60_32\" was acquired with 60 kV and 32 mA\n",
      "Experiment \"1460727203_gkt_gkt_70_32\" was acquired with 70 kV and 32 mA\n",
      "Experiment \"1460727260_gkt_gkt_81_10\" was acquired with 81 kV and 10 mA\n",
      "Experiment \"1460727315_gkt_gkt_109_10\" was acquired with 109 kV and 10 mA\n",
      "Experiment \"1460727354_gkt_gkt_46_2\" was acquired with 46 kV and 2 mA\n",
      "Experiment \"1460727404_gkt_gkt_46_2\" was acquired with 46 kV and 2 mA\n",
      "Experiment \"1460727478_gkt_gkt_46_4\" was acquired with 46 kV and 4 mA\n",
      "Experiment \"1460727593_gkt_gkt_90_10\" was acquired with 90 kV and 10 mA\n"
     ]
    }
   ],
   "source": [
    "# Display and save kV and mA parameters (mAs is in the log files, we don't  parse them...)\n",
    "kV = [None] * len(Folders)\n",
    "mA = [None] * len(Folders)\n",
    "for c,i in enumerate(Folders):\n",
    "    kV[c] = int(i.split('_')[3])\n",
    "    mA[c] = int(i.split('_')[4])\n",
    "    print 'Experiment \"%s\" was acquired with %s kV and %s mA' % (os.path.basename(i), kV[c], mA[c])"
   ]
  },
  {
   "cell_type": "code",
   "execution_count": null,
   "metadata": {
    "collapsed": false
   },
   "outputs": [
    {
     "name": "stdout",
     "output_type": "stream",
     "text": [
      "--------------------------------------------------------------------------------\n",
      "1/10: 1460727023_gkt_gkt_40_40\n"
     ]
    }
   ],
   "source": [
    "# Load all images\n",
    "gkt_Image = [None] * len(Folders)\n",
    "gkt_Dark = [None] * len(Folders)\n",
    "gkt_Corrected = [None] * len(Folders)\n",
    "sct_Image = [None] * len(Folders)\n",
    "sct_Dark = [None] * len(Folders)\n",
    "sct_Corrected = [None] * len(Folders)\n",
    "\n",
    "for c, i in enumerate(Folders):\n",
    "    print 80 * '-'\n",
    "    print '%s/%s: %s' % (c + 1, len(Folders), os.path.basename(i))\n",
    "    # Load images from Gektin\n",
    "    Images = glob.glob(os.path.join(i, '*.gray'))\n",
    "    # Perform dark-correction\n",
    "    gkt_Image[c] = reslice_image(Images[0])\n",
    "    gkt_Dark[c] =  reslice_image(Images[1])\n",
    "    gkt_Corrected[c] = numpy.subtract(gkt_Image[c], gkt_Dark[c])\n",
    "    plt.subplot(131)\n",
    "    plt.imshow(gkt_Image[c])\n",
    "    plt.title('Gektin: Original')\n",
    "    plt.subplot(132)\n",
    "    plt.title('Dark image')\n",
    "    plt.imshow(gkt_Dark[c])\n",
    "    plt.subplot(133)\n",
    "    plt.imshow(gkt_Corrected[c])\n",
    "    plt.title('Corrected image')\n",
    "    plt.show()\n",
    "\n",
    "    # Find folder with equal settings from Toshiba scintillator\n",
    "    print 'The corresponding folder for the Toshiba scintillator is %s' % os.path.basename(glob.glob(os.path.join(StartPath, '*sct_%s_%s*' % (kV[c], mA[c])))[0])\n",
    "    # Then load and display this image\n",
    "    ToshibaFiles = glob.glob(os.path.join(StartPath, '*sct_%s_%s*' % (kV[c], mA[c]), '*.gray'))\n",
    "    sct_Image[c] = reslice_image(ToshibaFiles[0])\n",
    "    sct_Dark[c] =  reslice_image(ToshibaFiles[1])\n",
    "    sct_Corrected[c] = numpy.subtract(sct_Image[c], sct_Dark[c])\n",
    "    plt.subplot(131)\n",
    "    plt.imshow(sct_Image[c])\n",
    "    plt.title('Toshiba: Original')\n",
    "    plt.subplot(132)\n",
    "    plt.title('Dark image')\n",
    "    plt.imshow(sct_Dark[c])\n",
    "    plt.subplot(133)\n",
    "    plt.imshow(sct_Corrected[c])\n",
    "    plt.title('Corrected image')\n",
    "    plt.show()"
   ]
  },
  {
   "cell_type": "code",
   "execution_count": null,
   "metadata": {
    "collapsed": false
   },
   "outputs": [],
   "source": [
    "# Display ROI for different scintillators\n",
    "\n",
    "# Scintillator Locations\n",
    "#------------\n",
    "#| 94   105 |\n",
    "#| 100      |\n",
    "#------------\n",
    "GektinImages = [None] * len(Folders)\n",
    "ToshibaImages = [None] * len(Folders)\n",
    "Names = ['94', '100', '105']\n",
    "ROIs = [(260,225,440), (1625,280,440), (330,1550,420)]\n",
    "\n",
    "GektinMean094 = [None] * len(Folders)\n",
    "GektinMean100 = [None] * len(Folders)\n",
    "GektinMean105 = [None] * len(Folders)\n",
    "ToshibaMean094 = [None] * len(Folders)\n",
    "ToshibaMean100 = [None] * len(Folders)\n",
    "ToshibaMean105 = [None] * len(Folders)\n",
    "GektinSTD094 = [None] * len(Folders)\n",
    "GektinSTD100 = [None] * len(Folders)\n",
    "GektinSTD105 = [None] * len(Folders)\n",
    "ToshibaSTD094 = [None] * len(Folders)\n",
    "ToshibaSTD100 = [None] * len(Folders)\n",
    "ToshibaSTD105 = [None] * len(Folders)\n",
    "\n",
    "for c, folder in enumerate(Folders):\n",
    "    print 80 * '-'\n",
    "    # Initialize empty variables\n",
    "    GektinImages[c] = [None] * 3\n",
    "    ToshibaImages[c] = [None] * 3\n",
    "    print 'Reading ROIs from folder %s' % os.path.basename(folder)\n",
    "    for i in range(3):\n",
    "        GektinImages[c][i] = display_roi(gkt_Image[c], ROIs[i][0], ROIs[i][1], ROIs[i][2], colors[i], 'Location of ROIs')\n",
    "        if i == 2:\n",
    "            plt.show()\n",
    "    for i in range(3):\n",
    "        plt.subplot(1,3,i+1)\n",
    "        plt.imshow(GektinImages[c][i])\n",
    "        currentAxis = plt.gca()\n",
    "        currentAxis.add_patch(Rectangle((0, 0), ROIs[i][2], ROIs[i][2], fc=colors[i], alpha=0.309))\n",
    "    plt.show()\n",
    "        \n",
    "    for i in range(3):\n",
    "        ToshibaImages[c][i] = display_roi(sct_Image[c], ROIs[i][0], ROIs[i][1], ROIs[i][2], colors[i+3], 'Location of ROIs')\n",
    "        if i == 2:\n",
    "            plt.show()\n",
    "    for i in range(3):\n",
    "        plt.subplot(1,3,i+1)\n",
    "        plt.imshow(ToshibaImages[c][i])\n",
    "        currentAxis = plt.gca()\n",
    "        currentAxis.add_patch(Rectangle((0, 0), ROIs[i][2], ROIs[i][2], fc=colors[i+3], alpha=0.309))\n",
    "    plt.show()            \n",
    "\n",
    "    print 'For %s,' % os.path.basename(folder)\n",
    "    # Give out brightness differences\n",
    "    print 'the mean brightness for the ROI of '\n",
    "    GektinMean094[c] = numpy.mean(GektinImages[c][0])    \n",
    "    GektinMean100[c] = numpy.mean(GektinImages[c][1])\n",
    "    GektinMean105[c] = numpy.mean(GektinImages[c][2])        \n",
    "      \n",
    "    ToshibaMean094[c] = numpy.mean(ToshibaImages[c][0])    \n",
    "    ToshibaMean100[c] = numpy.mean(ToshibaImages[c][1])    \n",
    "    ToshibaMean105[c] = numpy.mean(ToshibaImages[c][2])        \n",
    "    for i in range(3):\n",
    "        print '\\tScintillator %s is' % Names[i],\n",
    "        print '%0.2fx brighter on the Toshiba' % (numpy.mean(ToshibaImages[c][i])/numpy.mean(GektinImages[c][i])),\n",
    "        print 'vs. the ISMA scintillator (%0.f vs. %0.f, respectively)' % (numpy.mean(ToshibaImages[c][i]),\n",
    "                                                                            numpy.mean(GektinImages[c][i]))\n",
    "    \n",
    "    # STD\n",
    "    print 'the gray value standard deviation for the ROI of '\n",
    "    for i in range(3):\n",
    "        GektinSTD094[c] = numpy.std(GektinImages[c][0])    \n",
    "        GektinSTD100[c] = numpy.std(GektinImages[c][1])\n",
    "        GektinSTD105[c] = numpy.std(GektinImages[c][2])        \n",
    "      \n",
    "        ToshibaSTD094[c] = numpy.std(ToshibaImages[c][0])    \n",
    "        ToshibaSTD100[c] = numpy.std(ToshibaImages[c][1])    \n",
    "        ToshibaSTD105[c] = numpy.std(ToshibaImages[c][2])                \n",
    "        print '\\tScintillator %s is' % Names[i],\n",
    "        print '%0.2fx smaller on the Toshiba' % (numpy.std(GektinImages[c][i])/numpy.std(ToshibaImages[c][i])),\n",
    "        print 'vs. the ISMA scintillator (%0.f vs. %0.f, respectively)' % (numpy.std(ToshibaImages[c][i]),\n",
    "                                                                            numpy.std(GektinImages[c][i]))        "
   ]
  },
  {
   "cell_type": "code",
   "execution_count": null,
   "metadata": {
    "collapsed": false
   },
   "outputs": [],
   "source": [
    "plt.plot(kV, GektinMean094, label='Scintillator 94', ls='', color=colors[0])\n",
    "for i,j,k in zip(kV,GektinMean094,mA):\n",
    "    plt.gca().text(i, j, '%s mA' % k, va='bottom', ha='center')\n",
    "plt.plot(kV, GektinMean100, label='Scintillator 100', ls='', color=colors[1])\n",
    "plt.plot(kV, GektinMean105, label='Scintillator 105', ls='', color=colors[2])\n",
    "plt.legend(loc='best')\n",
    "plt.xlabel('kV')\n",
    "plt.ylabel('Mean brightness')\n",
    "plt.ylim([0,1024])\n",
    "plt.title('Mean brightness for ROIs on ISMA scintillator')\n",
    "plt.show()"
   ]
  },
  {
   "cell_type": "code",
   "execution_count": null,
   "metadata": {
    "collapsed": false
   },
   "outputs": [],
   "source": [
    "plt.plot(kV, ToshibaMean094, label='Toshiba ROI 94', ls='', color=colors[3])\n",
    "for i,j,k in zip(kV,ToshibaMean094,mA):\n",
    "    plt.gca().text(i, j, '%s mA' % k, va='bottom', ha='center')\n",
    "plt.plot(kV, ToshibaMean100, label='Toshiba ROI 100', ls='', color=colors[4])\n",
    "plt.plot(kV, ToshibaMean105, label='Toshiba ROI 105', ls='', color=colors[5])\n",
    "plt.legend(loc='best')\n",
    "plt.xlabel('kV')\n",
    "plt.ylabel('Mean brightness')\n",
    "plt.ylim([0,1024])\n",
    "plt.title('Mean brightness for ROIs of ISMA scintillators')\n",
    "plt.show()"
   ]
  },
  {
   "cell_type": "code",
   "execution_count": null,
   "metadata": {
    "collapsed": false
   },
   "outputs": [],
   "source": [
    "plt.plot(kV, GektinMean094, label='Toshiba ROI 94', ls='', color=colors[0])\n",
    "plt.plot(kV, GektinMean100, label='Toshiba ROI 100', ls='', color=colors[1])\n",
    "plt.plot(kV, GektinMean105, label='Toshiba ROI 105', ls='', color=colors[2])\n",
    "plt.plot(kV, ToshibaMean094, label='Toshiba ROI 94', ls='', color=colors[3])\n",
    "plt.plot(kV, ToshibaMean100, label='Toshiba ROI 94', ls='', color=colors[4])\n",
    "plt.plot(kV, ToshibaMean105, label='Toshiba ROI 94', ls='', color=colors[5])\n",
    "\n",
    "# sort global mean list on KV, so that we can plot the global mean line\n",
    "# http://stackoverflow.com/a/6618543/323100\n",
    "plt.plot(sorted(kV), [x for (y,x) in sorted(zip(kV,[numpy.mean(k) for k in zip(GektinMean094, GektinMean100, GektinMean105)]))],\n",
    "         ls='dashed', c='k', marker='', label='Global Mean ISMA')\n",
    "plt.plot(sorted(kV), [x for (y,x) in sorted(zip(kV,[numpy.mean(k) for k in zip(ToshibaMean094, ToshibaMean100, ToshibaMean105)]))],\n",
    "         ls='dotted', c='k', marker='', label='Global Mean Toshiba')\n",
    "plt.legend(loc='best')\n",
    "plt.xlabel('kV')\n",
    "plt.ylabel('Mean brightness')\n",
    "plt.ylim([0,1024])\n",
    "plt.title('Mean brightness for ROIs of both scintillators')\n",
    "plt.show()"
   ]
  },
  {
   "cell_type": "code",
   "execution_count": null,
   "metadata": {
    "collapsed": true
   },
   "outputs": [],
   "source": []
  }
 ],
 "metadata": {
  "kernelspec": {
   "display_name": "Python 2",
   "language": "python",
   "name": "python2"
  },
  "language_info": {
   "codemirror_mode": {
    "name": "ipython",
    "version": 2
   },
   "file_extension": ".py",
   "mimetype": "text/x-python",
   "name": "python",
   "nbconvert_exporter": "python",
   "pygments_lexer": "ipython2",
   "version": "2.7.3"
  }
 },
 "nbformat": 4,
 "nbformat_minor": 0
}
